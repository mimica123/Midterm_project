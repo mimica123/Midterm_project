{
 "cells": [
  {
   "cell_type": "code",
   "execution_count": 1,
   "id": "ee3f9e78",
   "metadata": {},
   "outputs": [],
   "source": [
    "def prediction(data):\n",
    "    import pandas as pd\n",
    "    import numpy as np\n",
    "    from definitions2 import get_time\n",
    "    from definitions2 import categorize\n",
    "    from definitions2 import get_hour\n",
    "    from definitions2 import categorize\n",
    "    from definitions2 import weight\n",
    "    from definitions2 import ols\n",
    "    from definitions2 import linear_regression\n",
    "    from definitions2 import polynomial_regression\n",
    "    \n",
    "    print('Changing time data')\n",
    "     #getting year and month from data['fl_date']\n",
    "    data['year'], data['month'] = get_time(data['fl_date'])\n",
    "    \n",
    "    print('Introducing new features')\n",
    "    #importing relevant data for the model\n",
    "    origin=pd.read_csv('C:/Users/bd/lighthouse-data-notes/Week_5/Day_5/Midterm_project/data/Clara/origin.csv')\n",
    "    destination=pd.read_csv('C:/Users/bd/lighthouse-data-notes/Week_5/Day_5/Midterm_project/data/Clara/destination.csv')\n",
    "    distance=pd.read_csv('C:/Users/bd/lighthouse-data-notes/Week_5/Day_5/Midterm_project/data/Clara/distance.csv')\n",
    "    hour=pd.read_csv('C:/Users/bd/lighthouse-data-notes/Week_5/Day_5/Midterm_project/data/Clara/hour.csv')\n",
    "    month=pd.read_csv('C:/Users/bd/lighthouse-data-notes/Week_5/Day_5/Midterm_project/data/Clara/month.csv')\n",
    "    departure_delay=pd.read_csv('C:/Users/bd/lighthouse-data-notes/Week_5/Day_5/Midterm_project/data/Clara/departure_delay.csv')\n",
    "    \n",
    "    #getting hour and minutes from departure time\n",
    "\n",
    "    data['hours'], data['minutes']=get_hour(data['crs_dep_time'])\n",
    "    \n",
    "    print('Creating categories')\n",
    "    #change to a category to convert to numbers\n",
    "    #for mkt_unique_carrier\n",
    "    data[\"mkt_unique_carrier\"]=categorize(data[\"mkt_unique_carrier\"])\n",
    "\n",
    "        #for op_unique_carrier\n",
    "    data[\"op_unique_carrier\"]=categorize(data[\"op_unique_carrier\"])\n",
    "\n",
    "    data['w_delay_origin']=weight(data['origin_airport_id'],origin['origin_airport_id'],origin['proba_delay'],['origin_airport_id','proba_delay'])\n",
    "    data['w_delay_destination']=weight(data['dest_airport_id'],destination['dest_airport_id'],destination['proba_delay'],['dest_airport_id','proba_delay'])\n",
    "    data['w_delay_distance']=weight(data['distance'],distance['distance'],distance['proba_delay'],['distance','proba_delay'])\n",
    "    data['w_delay_hour']=weight(data['hours'],hour['hours'],hour['proba_delay'],['hours','proba_delay'])\n",
    "    data['w_delay_month']=weight(data['month'],month['month'],month['proba_delay'],['month','proba_delay'])\n",
    "    data['w_delay_departure']=weight(data['origin_airport_id'],departure_delay['origin_airport_id'],departure_delay['perc_dep_delay'],['origin_airport_id','perc_dep_delay'])\n",
    "\n",
    "    print('Making prediction')\n",
    "    #Prediction using linear regresion\n",
    "    predict=linear_regression(data)\n",
    "    return predict\n",
    "    "
   ]
  },
  {
   "cell_type": "code",
   "execution_count": 2,
   "id": "bed2eda1",
   "metadata": {},
   "outputs": [
    {
     "name": "stdout",
     "output_type": "stream",
     "text": [
      "Changing time data\n",
      "Introducing new features\n",
      "Creating categories\n",
      "Making prediction\n"
     ]
    }
   ],
   "source": [
    "#importing data\n",
    "import pandas as pd\n",
    "df=pd.read_csv('C:/Users/bd/lighthouse-data-notes/Week_5/Day_5/mid-term-project-I/test.csv')\n",
    "pd.set_option('display.max_columns',100)\n",
    "data=df.copy()\n",
    "prediction=prediction(data)    "
   ]
  },
  {
   "cell_type": "code",
   "execution_count": 4,
   "id": "58e05baa",
   "metadata": {},
   "outputs": [],
   "source": [
    "prediction.head(100).to_csv('submission.csv')"
   ]
  },
  {
   "cell_type": "code",
   "execution_count": null,
   "id": "75fd6f28",
   "metadata": {},
   "outputs": [],
   "source": []
  }
 ],
 "metadata": {
  "kernelspec": {
   "display_name": "Python 3",
   "language": "python",
   "name": "python3"
  },
  "language_info": {
   "codemirror_mode": {
    "name": "ipython",
    "version": 3
   },
   "file_extension": ".py",
   "mimetype": "text/x-python",
   "name": "python",
   "nbconvert_exporter": "python",
   "pygments_lexer": "ipython3",
   "version": "3.8.8"
  }
 },
 "nbformat": 4,
 "nbformat_minor": 5
}
