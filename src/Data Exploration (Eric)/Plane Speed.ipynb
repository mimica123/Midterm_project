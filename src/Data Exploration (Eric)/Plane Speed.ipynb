{
 "cells": [
  {
   "cell_type": "markdown",
   "id": "beb8df07",
   "metadata": {},
   "source": [
    "To investigate if different planes, identified by their tail number, have different speeds.\n",
    "\n",
    "This can take the plane's flight time divided by distance travelled"
   ]
  },
  {
   "cell_type": "code",
   "execution_count": 3,
   "id": "0175e0b5",
   "metadata": {},
   "outputs": [],
   "source": [
    "import pandas as pd\n",
    "import pgaccess as pg\n",
    "import seaborn as sns\n",
    "import matplotlib.pyplot as plt"
   ]
  },
  {
   "cell_type": "code",
   "execution_count": 5,
   "id": "c466b683",
   "metadata": {},
   "outputs": [
    {
     "data": {
      "text/html": [
       "<div>\n",
       "<style scoped>\n",
       "    .dataframe tbody tr th:only-of-type {\n",
       "        vertical-align: middle;\n",
       "    }\n",
       "\n",
       "    .dataframe tbody tr th {\n",
       "        vertical-align: top;\n",
       "    }\n",
       "\n",
       "    .dataframe thead th {\n",
       "        text-align: right;\n",
       "    }\n",
       "</style>\n",
       "<table border=\"1\" class=\"dataframe\">\n",
       "  <thead>\n",
       "    <tr style=\"text-align: right;\">\n",
       "      <th></th>\n",
       "      <th>tail_num</th>\n",
       "      <th>air_time</th>\n",
       "      <th>distance</th>\n",
       "      <th>speed</th>\n",
       "      <th>flight_count</th>\n",
       "    </tr>\n",
       "  </thead>\n",
       "  <tbody>\n",
       "    <tr>\n",
       "      <th>0</th>\n",
       "      <td>215NV</td>\n",
       "      <td>122.756602</td>\n",
       "      <td>919.035134</td>\n",
       "      <td>0.135550</td>\n",
       "      <td>2277</td>\n",
       "    </tr>\n",
       "    <tr>\n",
       "      <th>1</th>\n",
       "      <td>216NV</td>\n",
       "      <td>112.813073</td>\n",
       "      <td>834.327661</td>\n",
       "      <td>0.136934</td>\n",
       "      <td>2527</td>\n",
       "    </tr>\n",
       "    <tr>\n",
       "      <th>2</th>\n",
       "      <td>217NV</td>\n",
       "      <td>112.968868</td>\n",
       "      <td>836.285536</td>\n",
       "      <td>0.136634</td>\n",
       "      <td>2399</td>\n",
       "    </tr>\n",
       "    <tr>\n",
       "      <th>3</th>\n",
       "      <td>218NV</td>\n",
       "      <td>110.383200</td>\n",
       "      <td>811.747909</td>\n",
       "      <td>0.137556</td>\n",
       "      <td>2511</td>\n",
       "    </tr>\n",
       "    <tr>\n",
       "      <th>4</th>\n",
       "      <td>219NV</td>\n",
       "      <td>113.106349</td>\n",
       "      <td>840.977039</td>\n",
       "      <td>0.135968</td>\n",
       "      <td>2526</td>\n",
       "    </tr>\n",
       "    <tr>\n",
       "      <th>...</th>\n",
       "      <td>...</td>\n",
       "      <td>...</td>\n",
       "      <td>...</td>\n",
       "      <td>...</td>\n",
       "      <td>...</td>\n",
       "    </tr>\n",
       "    <tr>\n",
       "      <th>6482</th>\n",
       "      <td>N999DN</td>\n",
       "      <td>68.696488</td>\n",
       "      <td>450.422938</td>\n",
       "      <td>0.162036</td>\n",
       "      <td>3601</td>\n",
       "    </tr>\n",
       "    <tr>\n",
       "      <th>6483</th>\n",
       "      <td>N999FR</td>\n",
       "      <td>161.750000</td>\n",
       "      <td>1177.000000</td>\n",
       "      <td>0.138531</td>\n",
       "      <td>8</td>\n",
       "    </tr>\n",
       "    <tr>\n",
       "      <th>6484</th>\n",
       "      <td>N999JB</td>\n",
       "      <td>165.207547</td>\n",
       "      <td>1223.937888</td>\n",
       "      <td>0.135870</td>\n",
       "      <td>161</td>\n",
       "    </tr>\n",
       "    <tr>\n",
       "      <th>6485</th>\n",
       "      <td>N999JQ</td>\n",
       "      <td>172.113022</td>\n",
       "      <td>1304.009650</td>\n",
       "      <td>0.133334</td>\n",
       "      <td>829</td>\n",
       "    </tr>\n",
       "    <tr>\n",
       "      <th>6486</th>\n",
       "      <td>SS25</td>\n",
       "      <td>151.750000</td>\n",
       "      <td>1087.500000</td>\n",
       "      <td>0.139381</td>\n",
       "      <td>4</td>\n",
       "    </tr>\n",
       "  </tbody>\n",
       "</table>\n",
       "<p>6481 rows × 5 columns</p>\n",
       "</div>"
      ],
      "text/plain": [
       "     tail_num    air_time     distance     speed  flight_count\n",
       "0       215NV  122.756602   919.035134  0.135550          2277\n",
       "1       216NV  112.813073   834.327661  0.136934          2527\n",
       "2       217NV  112.968868   836.285536  0.136634          2399\n",
       "3       218NV  110.383200   811.747909  0.137556          2511\n",
       "4       219NV  113.106349   840.977039  0.135968          2526\n",
       "...       ...         ...          ...       ...           ...\n",
       "6482   N999DN   68.696488   450.422938  0.162036          3601\n",
       "6483   N999FR  161.750000  1177.000000  0.138531             8\n",
       "6484   N999JB  165.207547  1223.937888  0.135870           161\n",
       "6485   N999JQ  172.113022  1304.009650  0.133334           829\n",
       "6486     SS25  151.750000  1087.500000  0.139381             4\n",
       "\n",
       "[6481 rows x 5 columns]"
      ]
     },
     "execution_count": 5,
     "metadata": {},
     "output_type": "execute_result"
    }
   ],
   "source": [
    "planeSpeed = pg.execute_query('''\n",
    "SELECT\n",
    "    tail_num,\n",
    "    AVG(air_time) AS air_time,\n",
    "    AVG(distance) AS distance,\n",
    "    AVG(air_time / distance) AS speed,\n",
    "    COUNT(*) AS flight_count\n",
    "FROM flights\n",
    "GROUP BY tail_num\n",
    "''')\n",
    "planeSpeed.dropna(inplace=True)\n",
    "planeSpeed"
   ]
  },
  {
   "cell_type": "markdown",
   "id": "c17d3425",
   "metadata": {},
   "source": [
    "We can do a plot to see if there's an overally pattern to speeds"
   ]
  },
  {
   "cell_type": "code",
   "execution_count": 4,
   "id": "e9b8e7c6",
   "metadata": {},
   "outputs": [
    {
     "data": {
      "image/png": "[encoded data removed]",
      "text/plain": [
       "<Figure size 432x288 with 1 Axes>"
      ]
     },
     "metadata": {
      "needs_background": "light"
     },
     "output_type": "display_data"
    }
   ],
   "source": [
    "sns.histplot(planeSpeed.speed, kde=True)\n",
    "plt.show()"
   ]
  },
  {
   "cell_type": "markdown",
   "id": "3e0f9cb9",
   "metadata": {},
   "source": [
    "So there is some variation in average plane speeds. How about seeing if there are any planes with very few flights and cutting them out"
   ]
  },
  {
   "cell_type": "code",
   "execution_count": 7,
   "id": "b06488d6",
   "metadata": {},
   "outputs": [
    {
     "data": {
      "text/html": [
       "<div>\n",
       "<style scoped>\n",
       "    .dataframe tbody tr th:only-of-type {\n",
       "        vertical-align: middle;\n",
       "    }\n",
       "\n",
       "    .dataframe tbody tr th {\n",
       "        vertical-align: top;\n",
       "    }\n",
       "\n",
       "    .dataframe thead th {\n",
       "        text-align: right;\n",
       "    }\n",
       "</style>\n",
       "<table border=\"1\" class=\"dataframe\">\n",
       "  <thead>\n",
       "    <tr style=\"text-align: right;\">\n",
       "      <th></th>\n",
       "      <th>tail_num</th>\n",
       "      <th>air_time</th>\n",
       "      <th>distance</th>\n",
       "      <th>speed</th>\n",
       "      <th>flight_count</th>\n",
       "    </tr>\n",
       "  </thead>\n",
       "  <tbody>\n",
       "    <tr>\n",
       "      <th>0</th>\n",
       "      <td>215NV</td>\n",
       "      <td>122.756602</td>\n",
       "      <td>919.035134</td>\n",
       "      <td>0.135550</td>\n",
       "      <td>2277</td>\n",
       "    </tr>\n",
       "    <tr>\n",
       "      <th>1</th>\n",
       "      <td>216NV</td>\n",
       "      <td>112.813073</td>\n",
       "      <td>834.327661</td>\n",
       "      <td>0.136934</td>\n",
       "      <td>2527</td>\n",
       "    </tr>\n",
       "    <tr>\n",
       "      <th>2</th>\n",
       "      <td>217NV</td>\n",
       "      <td>112.968868</td>\n",
       "      <td>836.285536</td>\n",
       "      <td>0.136634</td>\n",
       "      <td>2399</td>\n",
       "    </tr>\n",
       "    <tr>\n",
       "      <th>3</th>\n",
       "      <td>218NV</td>\n",
       "      <td>110.383200</td>\n",
       "      <td>811.747909</td>\n",
       "      <td>0.137556</td>\n",
       "      <td>2511</td>\n",
       "    </tr>\n",
       "    <tr>\n",
       "      <th>4</th>\n",
       "      <td>219NV</td>\n",
       "      <td>113.106349</td>\n",
       "      <td>840.977039</td>\n",
       "      <td>0.135968</td>\n",
       "      <td>2526</td>\n",
       "    </tr>\n",
       "    <tr>\n",
       "      <th>...</th>\n",
       "      <td>...</td>\n",
       "      <td>...</td>\n",
       "      <td>...</td>\n",
       "      <td>...</td>\n",
       "      <td>...</td>\n",
       "    </tr>\n",
       "    <tr>\n",
       "      <th>6480</th>\n",
       "      <td>N998JE</td>\n",
       "      <td>170.753530</td>\n",
       "      <td>1287.572519</td>\n",
       "      <td>0.133837</td>\n",
       "      <td>786</td>\n",
       "    </tr>\n",
       "    <tr>\n",
       "      <th>6481</th>\n",
       "      <td>N998NN</td>\n",
       "      <td>145.015665</td>\n",
       "      <td>1072.299003</td>\n",
       "      <td>0.142223</td>\n",
       "      <td>2408</td>\n",
       "    </tr>\n",
       "    <tr>\n",
       "      <th>6482</th>\n",
       "      <td>N999DN</td>\n",
       "      <td>68.696488</td>\n",
       "      <td>450.422938</td>\n",
       "      <td>0.162036</td>\n",
       "      <td>3601</td>\n",
       "    </tr>\n",
       "    <tr>\n",
       "      <th>6484</th>\n",
       "      <td>N999JB</td>\n",
       "      <td>165.207547</td>\n",
       "      <td>1223.937888</td>\n",
       "      <td>0.135870</td>\n",
       "      <td>161</td>\n",
       "    </tr>\n",
       "    <tr>\n",
       "      <th>6485</th>\n",
       "      <td>N999JQ</td>\n",
       "      <td>172.113022</td>\n",
       "      <td>1304.009650</td>\n",
       "      <td>0.133334</td>\n",
       "      <td>829</td>\n",
       "    </tr>\n",
       "  </tbody>\n",
       "</table>\n",
       "<p>6232 rows × 5 columns</p>\n",
       "</div>"
      ],
      "text/plain": [
       "     tail_num    air_time     distance     speed  flight_count\n",
       "0       215NV  122.756602   919.035134  0.135550          2277\n",
       "1       216NV  112.813073   834.327661  0.136934          2527\n",
       "2       217NV  112.968868   836.285536  0.136634          2399\n",
       "3       218NV  110.383200   811.747909  0.137556          2511\n",
       "4       219NV  113.106349   840.977039  0.135968          2526\n",
       "...       ...         ...          ...       ...           ...\n",
       "6480   N998JE  170.753530  1287.572519  0.133837           786\n",
       "6481   N998NN  145.015665  1072.299003  0.142223          2408\n",
       "6482   N999DN   68.696488   450.422938  0.162036          3601\n",
       "6484   N999JB  165.207547  1223.937888  0.135870           161\n",
       "6485   N999JQ  172.113022  1304.009650  0.133334           829\n",
       "\n",
       "[6232 rows x 5 columns]"
      ]
     },
     "execution_count": 7,
     "metadata": {},
     "output_type": "execute_result"
    }
   ],
   "source": [
    "manyFlights = planeSpeed[planeSpeed.flight_count > 100]\n",
    "manyFlights"
   ]
  },
  {
   "cell_type": "code",
   "execution_count": 8,
   "id": "4d7b50c9",
   "metadata": {},
   "outputs": [
    {
     "data": {
      "image/png": "[encoded data removed]",
      "text/plain": [
       "<Figure size 432x288 with 1 Axes>"
      ]
     },
     "metadata": {
      "needs_background": "light"
     },
     "output_type": "display_data"
    }
   ],
   "source": [
    "sns.histplot(manyFlights.speed, kde=True)\n",
    "plt.show()"
   ]
  },
  {
   "cell_type": "markdown",
   "id": "deacd8ab",
   "metadata": {},
   "source": [
    "Surprisingly the distribution actually looks about the same. Maybe be even more restrictive and drop flights with less than a certain amount of flights based on the distribution of flight counts"
   ]
  },
  {
   "cell_type": "code",
   "execution_count": 9,
   "id": "e9c65d38",
   "metadata": {},
   "outputs": [
    {
     "data": {
      "image/png": "[encoded data removed]",
      "text/plain": [
       "<Figure size 432x288 with 1 Axes>"
      ]
     },
     "metadata": {
      "needs_background": "light"
     },
     "output_type": "display_data"
    }
   ],
   "source": [
    "sns.violinplot(x=planeSpeed.flight_count)\n",
    "plt.show()"
   ]
  },
  {
   "cell_type": "markdown",
   "id": "cb473821",
   "metadata": {},
   "source": [
    "Actually I see the reasonable distribution of flights goes pretty much right down to 0. So picking a number visually I think 1500 is probably a decent place to put the cut-off. Just above there is where a really large number of planes have so many flights."
   ]
  },
  {
   "cell_type": "code",
   "execution_count": 10,
   "id": "a898e749",
   "metadata": {},
   "outputs": [
    {
     "data": {
      "text/html": [
       "<div>\n",
       "<style scoped>\n",
       "    .dataframe tbody tr th:only-of-type {\n",
       "        vertical-align: middle;\n",
       "    }\n",
       "\n",
       "    .dataframe tbody tr th {\n",
       "        vertical-align: top;\n",
       "    }\n",
       "\n",
       "    .dataframe thead th {\n",
       "        text-align: right;\n",
       "    }\n",
       "</style>\n",
       "<table border=\"1\" class=\"dataframe\">\n",
       "  <thead>\n",
       "    <tr style=\"text-align: right;\">\n",
       "      <th></th>\n",
       "      <th>tail_num</th>\n",
       "      <th>air_time</th>\n",
       "      <th>distance</th>\n",
       "      <th>speed</th>\n",
       "      <th>flight_count</th>\n",
       "    </tr>\n",
       "  </thead>\n",
       "  <tbody>\n",
       "    <tr>\n",
       "      <th>0</th>\n",
       "      <td>215NV</td>\n",
       "      <td>122.756602</td>\n",
       "      <td>919.035134</td>\n",
       "      <td>0.135550</td>\n",
       "      <td>2277</td>\n",
       "    </tr>\n",
       "    <tr>\n",
       "      <th>1</th>\n",
       "      <td>216NV</td>\n",
       "      <td>112.813073</td>\n",
       "      <td>834.327661</td>\n",
       "      <td>0.136934</td>\n",
       "      <td>2527</td>\n",
       "    </tr>\n",
       "    <tr>\n",
       "      <th>2</th>\n",
       "      <td>217NV</td>\n",
       "      <td>112.968868</td>\n",
       "      <td>836.285536</td>\n",
       "      <td>0.136634</td>\n",
       "      <td>2399</td>\n",
       "    </tr>\n",
       "    <tr>\n",
       "      <th>3</th>\n",
       "      <td>218NV</td>\n",
       "      <td>110.383200</td>\n",
       "      <td>811.747909</td>\n",
       "      <td>0.137556</td>\n",
       "      <td>2511</td>\n",
       "    </tr>\n",
       "    <tr>\n",
       "      <th>4</th>\n",
       "      <td>219NV</td>\n",
       "      <td>113.106349</td>\n",
       "      <td>840.977039</td>\n",
       "      <td>0.135968</td>\n",
       "      <td>2526</td>\n",
       "    </tr>\n",
       "    <tr>\n",
       "      <th>...</th>\n",
       "      <td>...</td>\n",
       "      <td>...</td>\n",
       "      <td>...</td>\n",
       "      <td>...</td>\n",
       "      <td>...</td>\n",
       "    </tr>\n",
       "    <tr>\n",
       "      <th>6476</th>\n",
       "      <td>N998AN</td>\n",
       "      <td>162.344228</td>\n",
       "      <td>1239.012490</td>\n",
       "      <td>0.138428</td>\n",
       "      <td>2482</td>\n",
       "    </tr>\n",
       "    <tr>\n",
       "      <th>6477</th>\n",
       "      <td>N998AT</td>\n",
       "      <td>85.782622</td>\n",
       "      <td>583.259492</td>\n",
       "      <td>0.157645</td>\n",
       "      <td>3345</td>\n",
       "    </tr>\n",
       "    <tr>\n",
       "      <th>6478</th>\n",
       "      <td>N998DL</td>\n",
       "      <td>68.527544</td>\n",
       "      <td>448.025483</td>\n",
       "      <td>0.162293</td>\n",
       "      <td>3571</td>\n",
       "    </tr>\n",
       "    <tr>\n",
       "      <th>6481</th>\n",
       "      <td>N998NN</td>\n",
       "      <td>145.015665</td>\n",
       "      <td>1072.299003</td>\n",
       "      <td>0.142223</td>\n",
       "      <td>2408</td>\n",
       "    </tr>\n",
       "    <tr>\n",
       "      <th>6482</th>\n",
       "      <td>N999DN</td>\n",
       "      <td>68.696488</td>\n",
       "      <td>450.422938</td>\n",
       "      <td>0.162036</td>\n",
       "      <td>3601</td>\n",
       "    </tr>\n",
       "  </tbody>\n",
       "</table>\n",
       "<p>5156 rows × 5 columns</p>\n",
       "</div>"
      ],
      "text/plain": [
       "     tail_num    air_time     distance     speed  flight_count\n",
       "0       215NV  122.756602   919.035134  0.135550          2277\n",
       "1       216NV  112.813073   834.327661  0.136934          2527\n",
       "2       217NV  112.968868   836.285536  0.136634          2399\n",
       "3       218NV  110.383200   811.747909  0.137556          2511\n",
       "4       219NV  113.106349   840.977039  0.135968          2526\n",
       "...       ...         ...          ...       ...           ...\n",
       "6476   N998AN  162.344228  1239.012490  0.138428          2482\n",
       "6477   N998AT   85.782622   583.259492  0.157645          3345\n",
       "6478   N998DL   68.527544   448.025483  0.162293          3571\n",
       "6481   N998NN  145.015665  1072.299003  0.142223          2408\n",
       "6482   N999DN   68.696488   450.422938  0.162036          3601\n",
       "\n",
       "[5156 rows x 5 columns]"
      ]
     },
     "execution_count": 10,
     "metadata": {},
     "output_type": "execute_result"
    }
   ],
   "source": [
    "flightRestricted = planeSpeed[planeSpeed.flight_count > 1500]\n",
    "flightRestricted"
   ]
  },
  {
   "cell_type": "code",
   "execution_count": 11,
   "id": "a407fad7",
   "metadata": {},
   "outputs": [
    {
     "data": {
      "image/png": "[encoded data removed]",
      "text/plain": [
       "<Figure size 432x288 with 1 Axes>"
      ]
     },
     "metadata": {
      "needs_background": "light"
     },
     "output_type": "display_data"
    }
   ],
   "source": [
    "sns.histplot(flightRestricted.speed, kde=True)\n",
    "plt.show()"
   ]
  },
  {
   "cell_type": "markdown",
   "id": "2b3335dc",
   "metadata": {},
   "source": [
    "Again, the distribution is basically the same. I'm comfortable saying at this point that some planes do, in fact, have significantly different speeds. This will probably be something worth including in the prediction model.\n",
    "\n",
    "Save the results to a csv for future use"
   ]
  },
  {
   "cell_type": "code",
   "execution_count": 18,
   "id": "8e69bcd2",
   "metadata": {},
   "outputs": [],
   "source": [
    "# Make the tail number the index\n",
    "planeSpeed.to_csv('../data/plane_speed.csv', index=False)"
   ]
  },
  {
   "cell_type": "code",
   "execution_count": null,
   "id": "c23f1ab0",
   "metadata": {},
   "outputs": [],
   "source": []
  }
 ],
 "metadata": {
  "kernelspec": {
   "display_name": "bootcamp",
   "language": "python",
   "name": "bootcamp"
  },
  "language_info": {
   "codemirror_mode": {
    "name": "ipython",
    "version": 3
   },
   "file_extension": ".py",
   "mimetype": "text/x-python",
   "name": "python",
   "nbconvert_exporter": "python",
   "pygments_lexer": "ipython3",
   "version": "3.8.5"
  }
 },
 "nbformat": 4,
 "nbformat_minor": 5
}
