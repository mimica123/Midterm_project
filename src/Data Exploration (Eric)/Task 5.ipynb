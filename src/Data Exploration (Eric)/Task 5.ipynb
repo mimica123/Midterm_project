{
 "cells": [
  {
   "cell_type": "markdown",
   "id": "cf8e68db",
   "metadata": {},
   "source": [
    "To answer the question:  \n",
    "What is the average percentage of delays that are already created before departure?\n",
    "\n",
    "I actually want to answer three questions here:  \n",
    "* What percentage of delays are caused before departure\n",
    "* What is the ratio of delays before departure to delays after\n",
    "* What percentage of a given arrival delay was caused before departure"
   ]
  },
  {
   "cell_type": "code",
   "execution_count": 1,
   "id": "f04307e7",
   "metadata": {},
   "outputs": [],
   "source": [
    "import numpy as np\n",
    "import pandas as pd\n",
    "import pgaccess as pg"
   ]
  },
  {
   "cell_type": "code",
   "execution_count": 3,
   "id": "af3ef20d",
   "metadata": {},
   "outputs": [
    {
     "data": {
      "text/html": [
       "<div>\n",
       "<style scoped>\n",
       "    .dataframe tbody tr th:only-of-type {\n",
       "        vertical-align: middle;\n",
       "    }\n",
       "\n",
       "    .dataframe tbody tr th {\n",
       "        vertical-align: top;\n",
       "    }\n",
       "\n",
       "    .dataframe thead th {\n",
       "        text-align: right;\n",
       "    }\n",
       "</style>\n",
       "<table border=\"1\" class=\"dataframe\">\n",
       "  <thead>\n",
       "    <tr style=\"text-align: right;\">\n",
       "      <th></th>\n",
       "      <th>dep_delay</th>\n",
       "      <th>arr_delay</th>\n",
       "      <th>dep_delay_ratio</th>\n",
       "    </tr>\n",
       "  </thead>\n",
       "  <tbody>\n",
       "    <tr>\n",
       "      <th>0</th>\n",
       "      <td>8.0</td>\n",
       "      <td>12.0</td>\n",
       "      <td>0.666667</td>\n",
       "    </tr>\n",
       "    <tr>\n",
       "      <th>1</th>\n",
       "      <td>-1.0</td>\n",
       "      <td>-7.0</td>\n",
       "      <td>0.142857</td>\n",
       "    </tr>\n",
       "    <tr>\n",
       "      <th>2</th>\n",
       "      <td>1.0</td>\n",
       "      <td>-16.0</td>\n",
       "      <td>-0.062500</td>\n",
       "    </tr>\n",
       "    <tr>\n",
       "      <th>3</th>\n",
       "      <td>30.0</td>\n",
       "      <td>7.0</td>\n",
       "      <td>4.285714</td>\n",
       "    </tr>\n",
       "    <tr>\n",
       "      <th>4</th>\n",
       "      <td>1.0</td>\n",
       "      <td>-23.0</td>\n",
       "      <td>-0.043478</td>\n",
       "    </tr>\n",
       "    <tr>\n",
       "      <th>...</th>\n",
       "      <td>...</td>\n",
       "      <td>...</td>\n",
       "      <td>...</td>\n",
       "    </tr>\n",
       "    <tr>\n",
       "      <th>15611147</th>\n",
       "      <td>1.0</td>\n",
       "      <td>-18.0</td>\n",
       "      <td>-0.055556</td>\n",
       "    </tr>\n",
       "    <tr>\n",
       "      <th>15611148</th>\n",
       "      <td>2.0</td>\n",
       "      <td>-4.0</td>\n",
       "      <td>-0.500000</td>\n",
       "    </tr>\n",
       "    <tr>\n",
       "      <th>15611149</th>\n",
       "      <td>11.0</td>\n",
       "      <td>-6.0</td>\n",
       "      <td>-1.833333</td>\n",
       "    </tr>\n",
       "    <tr>\n",
       "      <th>15611150</th>\n",
       "      <td>8.0</td>\n",
       "      <td>-8.0</td>\n",
       "      <td>-1.000000</td>\n",
       "    </tr>\n",
       "    <tr>\n",
       "      <th>15611151</th>\n",
       "      <td>11.0</td>\n",
       "      <td>3.0</td>\n",
       "      <td>3.666667</td>\n",
       "    </tr>\n",
       "  </tbody>\n",
       "</table>\n",
       "<p>15611152 rows × 3 columns</p>\n",
       "</div>"
      ],
      "text/plain": [
       "          dep_delay  arr_delay  dep_delay_ratio\n",
       "0               8.0       12.0         0.666667\n",
       "1              -1.0       -7.0         0.142857\n",
       "2               1.0      -16.0        -0.062500\n",
       "3              30.0        7.0         4.285714\n",
       "4               1.0      -23.0        -0.043478\n",
       "...             ...        ...              ...\n",
       "15611147        1.0      -18.0        -0.055556\n",
       "15611148        2.0       -4.0        -0.500000\n",
       "15611149       11.0       -6.0        -1.833333\n",
       "15611150        8.0       -8.0        -1.000000\n",
       "15611151       11.0        3.0         3.666667\n",
       "\n",
       "[15611152 rows x 3 columns]"
      ]
     },
     "execution_count": 3,
     "metadata": {},
     "output_type": "execute_result"
    }
   ],
   "source": [
    "df = pg.execute_query('''\n",
    "SELECT\n",
    "    dep_delay,\n",
    "    arr_delay,\n",
    "    CASE\n",
    "        WHEN arr_delay <> 0 THEN dep_delay / arr_delay\n",
    "        ELSE NULL\n",
    "    END AS dep_delay_ratio\n",
    "FROM flights\n",
    "WHERE\n",
    "    arr_delay IS NOT NULL AND\n",
    "    dep_delay IS NOT NULL\n",
    "''')\n",
    "df"
   ]
  },
  {
   "cell_type": "code",
   "execution_count": 13,
   "id": "627b1e8a",
   "metadata": {},
   "outputs": [
    {
     "data": {
      "text/plain": [
       "0.9709981585233552"
      ]
     },
     "execution_count": 13,
     "metadata": {},
     "output_type": "execute_result"
    }
   ],
   "source": [
    "# What is the ratio between departure and arrival delays\n",
    "delayedDep = (df['dep_delay'] > 0).value_counts()[True]\n",
    "delayedArr = (df['arr_delay'] > 0).value_counts()[True]\n",
    "delayedDep / delayedArr"
   ]
  },
  {
   "cell_type": "code",
   "execution_count": 18,
   "id": "2b65cb8f",
   "metadata": {},
   "outputs": [
    {
     "data": {
      "text/plain": [
       "0.7125838743199954"
      ]
     },
     "execution_count": 18,
     "metadata": {},
     "output_type": "execute_result"
    }
   ],
   "source": [
    "# What percentage of delays are cause before departure\n",
    "fracDelayed = (df[df['arr_delay'] > 0]['dep_delay'] > 0).value_counts()[True]\n",
    "fracDelayed / delayedArr"
   ]
  },
  {
   "cell_type": "code",
   "execution_count": 19,
   "id": "292e9c17",
   "metadata": {},
   "outputs": [
    {
     "data": {
      "text/plain": [
       "0.467627087937476"
      ]
     },
     "execution_count": 19,
     "metadata": {},
     "output_type": "execute_result"
    }
   ],
   "source": [
    "# What percentage of a given arrival delay was cause before departure\n",
    "# This is already represented individually by the dep_delay_ratio column\n",
    "# I will calculate a mean for it here though\n",
    "df['dep_delay_ratio'].mean()"
   ]
  },
  {
   "cell_type": "markdown",
   "id": "b566b57e",
   "metadata": {},
   "source": [
    "It occurs to me now that this isn't accurate when the departure or arrival is early.\n",
    "\n",
    "When the flight arrives early, having a percentage of the delay doen't make much sense  \n",
    "When the flight is late but left early... that could actually be left as a negative percentage. This will pull the average down, indicating that delays are caused during flight more than before flight."
   ]
  },
  {
   "cell_type": "code",
   "execution_count": 20,
   "id": "7ccda457",
   "metadata": {},
   "outputs": [
    {
     "data": {
      "text/plain": [
       "0.7866119952047244"
      ]
     },
     "execution_count": 20,
     "metadata": {},
     "output_type": "execute_result"
    }
   ],
   "source": [
    "df[df['arr_delay'] > 0]['dep_delay_ratio'].mean()"
   ]
  },
  {
   "cell_type": "code",
   "execution_count": null,
   "id": "bca91938",
   "metadata": {},
   "outputs": [],
   "source": []
  }
 ],
 "metadata": {
  "kernelspec": {
   "display_name": "bootcamp",
   "language": "python",
   "name": "bootcamp"
  },
  "language_info": {
   "codemirror_mode": {
    "name": "ipython",
    "version": 3
   },
   "file_extension": ".py",
   "mimetype": "text/x-python",
   "name": "python",
   "nbconvert_exporter": "python",
   "pygments_lexer": "ipython3",
   "version": "3.8.5"
  }
 },
 "nbformat": 4,
 "nbformat_minor": 5
}
