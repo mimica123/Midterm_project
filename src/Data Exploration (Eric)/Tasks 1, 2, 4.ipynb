{
 "cells": [
  {
   "cell_type": "code",
   "execution_count": 123,
   "id": "2de4c978",
   "metadata": {},
   "outputs": [],
   "source": [
    "import json\n",
    "import numpy as np\n",
    "import pandas as pd\n",
    "import seaborn as sns\n",
    "import matplotlib.pyplot as plt\n",
    "\n",
    "# Internal modules\n",
    "from pgaccess import get_flight_delays, execute_query\n",
    "from plot_helpers import two_axes_plot"
   ]
  },
  {
   "cell_type": "code",
   "execution_count": 2,
   "id": "6b4738b4",
   "metadata": {},
   "outputs": [
    {
     "data": {
      "text/plain": [
       "(15615741,)"
      ]
     },
     "execution_count": 2,
     "metadata": {},
     "output_type": "execute_result"
    }
   ],
   "source": [
    "# Lets have a look at arrival delays\n",
    "delays = get_flight_delays()\n",
    "delays.shape"
   ]
  },
  {
   "cell_type": "markdown",
   "id": "5e8d6414",
   "metadata": {},
   "source": [
    "Make a histogram for delays, and investigate if they seem to be from a normal distribution"
   ]
  },
  {
   "cell_type": "code",
   "execution_count": 4,
   "id": "0ec7fd31",
   "metadata": {},
   "outputs": [
    {
     "data": {
      "image/png": "[encoded data removed]",
      "text/plain": [
       "<Figure size 432x288 with 1 Axes>"
      ]
     },
     "metadata": {
      "needs_background": "light"
     },
     "output_type": "display_data"
    }
   ],
   "source": [
    "plt.boxplot(delays)\n",
    "plt.show()"
   ]
  },
  {
   "cell_type": "code",
   "execution_count": 5,
   "id": "c75d6357",
   "metadata": {},
   "outputs": [
    {
     "data": {
      "text/plain": [
       "5.475932330076428"
      ]
     },
     "execution_count": 5,
     "metadata": {},
     "output_type": "execute_result"
    }
   ],
   "source": [
    "delays.mean()"
   ]
  },
  {
   "cell_type": "markdown",
   "id": "1100db26",
   "metadata": {},
   "source": [
    "There are two super obvious outliers in the negative direction.  \n",
    "There are a bunch of sparse data points in the positive direction.  \n",
    "I note, however, that 1440 minutes is 24 hours. If a flight is delayed by more than 24 hours I don't think that's something that can really be considered 'common' or 'predictable'"
   ]
  },
  {
   "cell_type": "code",
   "execution_count": 77,
   "id": "26fcd964",
   "metadata": {},
   "outputs": [
    {
     "data": {
      "image/png": "[encoded data removed]",
      "text/plain": [
       "<Figure size 432x288 with 1 Axes>"
      ]
     },
     "metadata": {
      "needs_background": "light"
     },
     "output_type": "display_data"
    }
   ],
   "source": [
    "delaydrop = delays[(delays > -300) & (delays < 1440)]\n",
    "plt.boxplot(delaydrop)\n",
    "plt.show()"
   ]
  },
  {
   "cell_type": "markdown",
   "id": "8011c38d",
   "metadata": {},
   "source": [
    "Realistically though, getting delayed by more than 8 hours seems extreme, as well as being more than 2 or 3 hours early. Those sound more like reschedules than delays."
   ]
  },
  {
   "cell_type": "code",
   "execution_count": 59,
   "id": "f7942cae",
   "metadata": {},
   "outputs": [
    {
     "data": {
      "image/png": "[encoded data removed]",
      "text/plain": [
       "<Figure size 432x288 with 1 Axes>"
      ]
     },
     "metadata": {
      "needs_background": "light"
     },
     "output_type": "display_data"
    }
   ],
   "source": [
    "# I will use 150 and 500 because those numbers are nicer to look at\n",
    "delaydrop = delaydrop[(delaydrop > -150) & (delaydrop < 500)]\n",
    "plt.boxplot(delaydrop)\n",
    "plt.show()"
   ]
  },
  {
   "cell_type": "code",
   "execution_count": 78,
   "id": "af13df7f",
   "metadata": {},
   "outputs": [
    {
     "name": "stdout",
     "output_type": "stream",
     "text": [
      "5.44621791583221\n",
      "(15615451,)\n"
     ]
    }
   ],
   "source": [
    "print(delaydrop.mean())\n",
    "print(delaydrop.shape)"
   ]
  },
  {
   "cell_type": "markdown",
   "id": "430d46a1",
   "metadata": {},
   "source": [
    "As a final backup, we can remove values that match the IQR definition of an outlier"
   ]
  },
  {
   "cell_type": "code",
   "execution_count": 69,
   "id": "23bd2fa1",
   "metadata": {},
   "outputs": [
    {
     "data": {
      "text/plain": [
       "(14159860,)"
      ]
     },
     "execution_count": 69,
     "metadata": {},
     "output_type": "execute_result"
    }
   ],
   "source": [
    "def remove_outliers(arr):\n",
    "    firstQ = np.quantile(arr, 0.25)\n",
    "    thirdQ = np.quantile(arr, 0.75)\n",
    "    iqr = thirdQ - firstQ\n",
    "    smallOutlier = firstQ - (iqr * 1.5)\n",
    "    bigOutlier = thirdQ + (iqr * 1.5)\n",
    "    return arr[(arr > smallOutlier) & (arr < bigOutlier)]\n",
    "    \n",
    "iqrdelays = remove_outliers(delays)\n",
    "iqrdelays.shape"
   ]
  },
  {
   "cell_type": "code",
   "execution_count": 73,
   "id": "7a4ac3f3",
   "metadata": {},
   "outputs": [
    {
     "data": {
      "image/png": "[encoded data removed]",
      "text/plain": [
       "<Figure size 432x288 with 1 Axes>"
      ]
     },
     "metadata": {
      "needs_background": "light"
     },
     "output_type": "display_data"
    }
   ],
   "source": [
    "sns.violinplot(x=iqrdelays)\n",
    "plt.show()"
   ]
  },
  {
   "cell_type": "code",
   "execution_count": 76,
   "id": "28953ab9",
   "metadata": {},
   "outputs": [
    {
     "name": "stdout",
     "output_type": "stream",
     "text": [
      "-49.0\n",
      "-5.453712536705871\n",
      "42.0\n"
     ]
    }
   ],
   "source": [
    "print(iqrdelays.min())\n",
    "print(iqrdelays.mean())\n",
    "print(iqrdelays.max())"
   ]
  },
  {
   "cell_type": "markdown",
   "id": "4c306496",
   "metadata": {},
   "source": [
    "That _looks_ a bit closer to normal, at the very least. Lets have a look at some test numbers."
   ]
  },
  {
   "cell_type": "code",
   "execution_count": 47,
   "id": "14d73491",
   "metadata": {},
   "outputs": [
    {
     "data": {
      "text/plain": [
       "NormaltestResult(statistic=22728920.77047994, pvalue=0.0)"
      ]
     },
     "execution_count": 47,
     "metadata": {},
     "output_type": "execute_result"
    }
   ],
   "source": [
    "from scipy.stats import normaltest\n",
    "normaltest(delays)"
   ]
  },
  {
   "cell_type": "code",
   "execution_count": 74,
   "id": "c76d5b3e",
   "metadata": {},
   "outputs": [
    {
     "data": {
      "text/plain": [
       "NormaltestResult(statistic=1041539.4756539622, pvalue=0.0)"
      ]
     },
     "execution_count": 74,
     "metadata": {},
     "output_type": "execute_result"
    }
   ],
   "source": [
    "normaltest(iqrdelays)"
   ]
  },
  {
   "cell_type": "markdown",
   "id": "08c2efba",
   "metadata": {},
   "source": [
    "In other words, there's no way in hell either of these are from a normal distribution"
   ]
  },
  {
   "cell_type": "markdown",
   "id": "ab7df11f",
   "metadata": {},
   "source": [
    "Trimming the delays list down to just the initial IQR x1.5 range restricts the available delay times to ±45 or so. The mean is slightly early, and times are late skewed.  \n",
    "In the context of predicting flight delays. I'm not entirely sure how I feel about only having data for 45 minutes either way. I feel like a one hour, or even two/three hour delay isn't terribly uncommon. I would think those kinds of delays would probably be worth trying to allow for in the prediction model."
   ]
  },
  {
   "cell_type": "markdown",
   "id": "fb380458",
   "metadata": {},
   "source": [
    "### Suggested metric 2\n",
    "Investigate the mean/median delay on a month-by-month basis. Perhaps some months are more prone to delays than other months.  \n",
    "This wasn't part of the suggestion, but my thought would also be is there a difference in the _count_ of delays. For that one I think I would just look for delays, disregarding any early arrivals."
   ]
  },
  {
   "cell_type": "code",
   "execution_count": 80,
   "id": "f7b2eae2",
   "metadata": {},
   "outputs": [
    {
     "data": {
      "text/html": [
       "<div>\n",
       "<style scoped>\n",
       "    .dataframe tbody tr th:only-of-type {\n",
       "        vertical-align: middle;\n",
       "    }\n",
       "\n",
       "    .dataframe tbody tr th {\n",
       "        vertical-align: top;\n",
       "    }\n",
       "\n",
       "    .dataframe thead th {\n",
       "        text-align: right;\n",
       "    }\n",
       "</style>\n",
       "<table border=\"1\" class=\"dataframe\">\n",
       "  <thead>\n",
       "    <tr style=\"text-align: right;\">\n",
       "      <th></th>\n",
       "      <th>month</th>\n",
       "      <th>average</th>\n",
       "      <th>median</th>\n",
       "      <th>count_delayed</th>\n",
       "    </tr>\n",
       "  </thead>\n",
       "  <tbody>\n",
       "    <tr>\n",
       "      <th>0</th>\n",
       "      <td>1.0</td>\n",
       "      <td>3.958788</td>\n",
       "      <td>-7.0</td>\n",
       "      <td>409076</td>\n",
       "    </tr>\n",
       "    <tr>\n",
       "      <th>1</th>\n",
       "      <td>2.0</td>\n",
       "      <td>6.745096</td>\n",
       "      <td>-6.0</td>\n",
       "      <td>418572</td>\n",
       "    </tr>\n",
       "    <tr>\n",
       "      <th>2</th>\n",
       "      <td>3.0</td>\n",
       "      <td>2.818773</td>\n",
       "      <td>-7.0</td>\n",
       "      <td>441232</td>\n",
       "    </tr>\n",
       "    <tr>\n",
       "      <th>3</th>\n",
       "      <td>4.0</td>\n",
       "      <td>4.159131</td>\n",
       "      <td>-7.0</td>\n",
       "      <td>431428</td>\n",
       "    </tr>\n",
       "    <tr>\n",
       "      <th>4</th>\n",
       "      <td>5.0</td>\n",
       "      <td>6.511144</td>\n",
       "      <td>-6.0</td>\n",
       "      <td>477611</td>\n",
       "    </tr>\n",
       "    <tr>\n",
       "      <th>5</th>\n",
       "      <td>6.0</td>\n",
       "      <td>10.414444</td>\n",
       "      <td>-4.0</td>\n",
       "      <td>536216</td>\n",
       "    </tr>\n",
       "    <tr>\n",
       "      <th>6</th>\n",
       "      <td>7.0</td>\n",
       "      <td>8.977515</td>\n",
       "      <td>-5.0</td>\n",
       "      <td>518368</td>\n",
       "    </tr>\n",
       "    <tr>\n",
       "      <th>7</th>\n",
       "      <td>8.0</td>\n",
       "      <td>8.898890</td>\n",
       "      <td>-5.0</td>\n",
       "      <td>518692</td>\n",
       "    </tr>\n",
       "    <tr>\n",
       "      <th>8</th>\n",
       "      <td>9.0</td>\n",
       "      <td>1.708452</td>\n",
       "      <td>-8.0</td>\n",
       "      <td>376302</td>\n",
       "    </tr>\n",
       "    <tr>\n",
       "      <th>9</th>\n",
       "      <td>10.0</td>\n",
       "      <td>2.853585</td>\n",
       "      <td>-7.0</td>\n",
       "      <td>445570</td>\n",
       "    </tr>\n",
       "    <tr>\n",
       "      <th>10</th>\n",
       "      <td>11.0</td>\n",
       "      <td>2.993607</td>\n",
       "      <td>-7.0</td>\n",
       "      <td>425442</td>\n",
       "    </tr>\n",
       "    <tr>\n",
       "      <th>11</th>\n",
       "      <td>12.0</td>\n",
       "      <td>5.110636</td>\n",
       "      <td>-6.0</td>\n",
       "      <td>477100</td>\n",
       "    </tr>\n",
       "  </tbody>\n",
       "</table>\n",
       "</div>"
      ],
      "text/plain": [
       "    month    average  median  count_delayed\n",
       "0     1.0   3.958788    -7.0         409076\n",
       "1     2.0   6.745096    -6.0         418572\n",
       "2     3.0   2.818773    -7.0         441232\n",
       "3     4.0   4.159131    -7.0         431428\n",
       "4     5.0   6.511144    -6.0         477611\n",
       "5     6.0  10.414444    -4.0         536216\n",
       "6     7.0   8.977515    -5.0         518368\n",
       "7     8.0   8.898890    -5.0         518692\n",
       "8     9.0   1.708452    -8.0         376302\n",
       "9    10.0   2.853585    -7.0         445570\n",
       "10   11.0   2.993607    -7.0         425442\n",
       "11   12.0   5.110636    -6.0         477100"
      ]
     },
     "execution_count": 80,
     "metadata": {},
     "output_type": "execute_result"
    }
   ],
   "source": [
    "delay_agg = execute_query(\"\"\"\n",
    "SELECT\n",
    "    EXTRACT(MONTH FROM TO_DATE(fl_date, 'YYYY-MM-DD')) AS \"month\",\n",
    "    AVG(arr_delay) AS average,\n",
    "    PERCENTILE_CONT(0.5) WITHIN GROUP(ORDER BY arr_delay) AS median,\n",
    "    COUNT(*) FILTER(WHERE arr_delay > 0) AS count_delayed\n",
    "FROM flights\n",
    "GROUP BY \"month\"\n",
    "\"\"\")\n",
    "delay_agg"
   ]
  },
  {
   "cell_type": "markdown",
   "id": "9d81d631",
   "metadata": {},
   "source": [
    "I do notice that in every month, the median flight is early while the average flight is delayed. This suggests to me that there are a lot of flights which are just a bit early. But sometimes a flight is delayed and it gets very delayed.\n",
    "\n",
    "Keeping in mind that this is including **all** times, not just the ones within the 45 minute windows. This does support the data from above where the delayed direction had a huge tail, which will draw the mean upwards. But when clipping that tail off the mean dropped into the early flights range."
   ]
  },
  {
   "cell_type": "code",
   "execution_count": 130,
   "id": "b72f6235",
   "metadata": {},
   "outputs": [
    {
     "data": {
      "image/png": "[encoded data removed]",
      "text/plain": [
       "<Figure size 432x288 with 2 Axes>"
      ]
     },
     "metadata": {
      "needs_background": "light"
     },
     "output_type": "display_data"
    }
   ],
   "source": [
    "fig, ax = plt.subplots()\n",
    "two_axes_plot(\n",
    "    ax,\n",
    "    delay_agg['month'],\n",
    "    delay_agg[['average', 'median']].to_numpy(),\n",
    "    delay_agg['count_delayed'],\n",
    "    xlabel = 'Month',\n",
    "    ylabel1 = 'Delay (Mins)',\n",
    "    ylabel2 = 'Delayed Count',\n",
    "    colors = [['red', 'blue'], 'orange'],\n",
    "    legend = ['mean', 'median', 'count']\n",
    ")\n",
    "ax.axhline(0, color='gray', linewidth=0.5, linestyle='--')\n",
    "plt.show()"
   ]
  },
  {
   "cell_type": "markdown",
   "id": "fcadb8cc",
   "metadata": {},
   "source": [
    "So it appears the summer months (June, July, August) have significantly more delayed flights, and the mean is also a fair bit higher. Though the median isn't really affected as much. That could be because there are more flights during those months, so the early flights help maintain the median's level. Though the increase in mean still suggests that the additional delays are worse, while the early flights are just more of the same."
   ]
  },
  {
   "cell_type": "code",
   "execution_count": 92,
   "id": "cae53177",
   "metadata": {},
   "outputs": [
    {
     "data": {
      "text/html": [
       "<div>\n",
       "<style scoped>\n",
       "    .dataframe tbody tr th:only-of-type {\n",
       "        vertical-align: middle;\n",
       "    }\n",
       "\n",
       "    .dataframe tbody tr th {\n",
       "        vertical-align: top;\n",
       "    }\n",
       "\n",
       "    .dataframe thead th {\n",
       "        text-align: right;\n",
       "    }\n",
       "</style>\n",
       "<table border=\"1\" class=\"dataframe\">\n",
       "  <thead>\n",
       "    <tr style=\"text-align: right;\">\n",
       "      <th></th>\n",
       "      <th>month</th>\n",
       "      <th>count_flights</th>\n",
       "      <th>count_delayed</th>\n",
       "      <th>ratio_delayed</th>\n",
       "    </tr>\n",
       "  </thead>\n",
       "  <tbody>\n",
       "    <tr>\n",
       "      <th>0</th>\n",
       "      <td>1.0</td>\n",
       "      <td>1239868</td>\n",
       "      <td>409076</td>\n",
       "      <td>0.329935</td>\n",
       "    </tr>\n",
       "    <tr>\n",
       "      <th>1</th>\n",
       "      <td>2.0</td>\n",
       "      <td>1149857</td>\n",
       "      <td>418572</td>\n",
       "      <td>0.364021</td>\n",
       "    </tr>\n",
       "    <tr>\n",
       "      <th>2</th>\n",
       "      <td>3.0</td>\n",
       "      <td>1354995</td>\n",
       "      <td>441232</td>\n",
       "      <td>0.325634</td>\n",
       "    </tr>\n",
       "    <tr>\n",
       "      <th>3</th>\n",
       "      <td>4.0</td>\n",
       "      <td>1317246</td>\n",
       "      <td>431428</td>\n",
       "      <td>0.327523</td>\n",
       "    </tr>\n",
       "    <tr>\n",
       "      <th>4</th>\n",
       "      <td>5.0</td>\n",
       "      <td>1365999</td>\n",
       "      <td>477611</td>\n",
       "      <td>0.349642</td>\n",
       "    </tr>\n",
       "    <tr>\n",
       "      <th>5</th>\n",
       "      <td>6.0</td>\n",
       "      <td>1376471</td>\n",
       "      <td>536216</td>\n",
       "      <td>0.389559</td>\n",
       "    </tr>\n",
       "    <tr>\n",
       "      <th>6</th>\n",
       "      <td>7.0</td>\n",
       "      <td>1419558</td>\n",
       "      <td>518368</td>\n",
       "      <td>0.365162</td>\n",
       "    </tr>\n",
       "    <tr>\n",
       "      <th>7</th>\n",
       "      <td>8.0</td>\n",
       "      <td>1418808</td>\n",
       "      <td>518692</td>\n",
       "      <td>0.365583</td>\n",
       "    </tr>\n",
       "    <tr>\n",
       "      <th>8</th>\n",
       "      <td>9.0</td>\n",
       "      <td>1298326</td>\n",
       "      <td>376302</td>\n",
       "      <td>0.289836</td>\n",
       "    </tr>\n",
       "    <tr>\n",
       "      <th>9</th>\n",
       "      <td>10.0</td>\n",
       "      <td>1363034</td>\n",
       "      <td>445570</td>\n",
       "      <td>0.326896</td>\n",
       "    </tr>\n",
       "    <tr>\n",
       "      <th>10</th>\n",
       "      <td>11.0</td>\n",
       "      <td>1294057</td>\n",
       "      <td>425442</td>\n",
       "      <td>0.328766</td>\n",
       "    </tr>\n",
       "    <tr>\n",
       "      <th>11</th>\n",
       "      <td>12.0</td>\n",
       "      <td>1329266</td>\n",
       "      <td>477100</td>\n",
       "      <td>0.358920</td>\n",
       "    </tr>\n",
       "  </tbody>\n",
       "</table>\n",
       "</div>"
      ],
      "text/plain": [
       "    month  count_flights  count_delayed  ratio_delayed\n",
       "0     1.0        1239868         409076       0.329935\n",
       "1     2.0        1149857         418572       0.364021\n",
       "2     3.0        1354995         441232       0.325634\n",
       "3     4.0        1317246         431428       0.327523\n",
       "4     5.0        1365999         477611       0.349642\n",
       "5     6.0        1376471         536216       0.389559\n",
       "6     7.0        1419558         518368       0.365162\n",
       "7     8.0        1418808         518692       0.365583\n",
       "8     9.0        1298326         376302       0.289836\n",
       "9    10.0        1363034         445570       0.326896\n",
       "10   11.0        1294057         425442       0.328766\n",
       "11   12.0        1329266         477100       0.358920"
      ]
     },
     "execution_count": 92,
     "metadata": {},
     "output_type": "execute_result"
    }
   ],
   "source": [
    "delay_counts = execute_query(\"\"\"\n",
    "SELECT\n",
    "    EXTRACT(MONTH FROM TO_DATE(fl_date, 'YYYY-MM-DD')) AS \"month\",\n",
    "    COUNT(*) AS count_flights,\n",
    "    COUNT(*) FILTER(WHERE arr_delay > 0) AS count_delayed\n",
    "FROM flights\n",
    "GROUP BY \"month\"\n",
    "\"\"\")\n",
    "delay_counts['ratio_delayed'] = delay_counts['count_delayed'] / delay_counts['count_flights']\n",
    "delay_counts"
   ]
  },
  {
   "cell_type": "markdown",
   "id": "9b4834da",
   "metadata": {},
   "source": [
    "The ratio looks to be in the low to mid 30% range across all months. September draws my eye as being the only month below 30% flights delayed.  \n",
    "But those numbers do again support the idea that there aren't more flights than would be expected getting delayed, but the delays that do happen are much worse."
   ]
  },
  {
   "cell_type": "markdown",
   "id": "951a2fd2",
   "metadata": {},
   "source": [
    "### Suggested metric 4\n",
    "Look into taxi times during the day. Include here how the number of flights changes throughout the day as well.\n",
    "\n",
    "We expect that increased traffic during the day would lead to more congested runways, and therefore more delays."
   ]
  },
  {
   "cell_type": "code",
   "execution_count": 93,
   "id": "0b2fdc26",
   "metadata": {},
   "outputs": [
    {
     "data": {
      "text/html": [
       "<div>\n",
       "<style scoped>\n",
       "    .dataframe tbody tr th:only-of-type {\n",
       "        vertical-align: middle;\n",
       "    }\n",
       "\n",
       "    .dataframe tbody tr th {\n",
       "        vertical-align: top;\n",
       "    }\n",
       "\n",
       "    .dataframe thead th {\n",
       "        text-align: right;\n",
       "    }\n",
       "</style>\n",
       "<table border=\"1\" class=\"dataframe\">\n",
       "  <thead>\n",
       "    <tr style=\"text-align: right;\">\n",
       "      <th></th>\n",
       "      <th>dep_time</th>\n",
       "      <th>taxi_out</th>\n",
       "      <th>flight_count</th>\n",
       "    </tr>\n",
       "  </thead>\n",
       "  <tbody>\n",
       "    <tr>\n",
       "      <th>0</th>\n",
       "      <td>1.0</td>\n",
       "      <td>16.853507</td>\n",
       "      <td>1769</td>\n",
       "    </tr>\n",
       "    <tr>\n",
       "      <th>1</th>\n",
       "      <td>2.0</td>\n",
       "      <td>16.665059</td>\n",
       "      <td>1453</td>\n",
       "    </tr>\n",
       "    <tr>\n",
       "      <th>2</th>\n",
       "      <td>3.0</td>\n",
       "      <td>16.648173</td>\n",
       "      <td>1478</td>\n",
       "    </tr>\n",
       "    <tr>\n",
       "      <th>3</th>\n",
       "      <td>4.0</td>\n",
       "      <td>16.368727</td>\n",
       "      <td>1380</td>\n",
       "    </tr>\n",
       "    <tr>\n",
       "      <th>4</th>\n",
       "      <td>5.0</td>\n",
       "      <td>16.679969</td>\n",
       "      <td>1279</td>\n",
       "    </tr>\n",
       "    <tr>\n",
       "      <th>...</th>\n",
       "      <td>...</td>\n",
       "      <td>...</td>\n",
       "      <td>...</td>\n",
       "    </tr>\n",
       "    <tr>\n",
       "      <th>1436</th>\n",
       "      <td>2357.0</td>\n",
       "      <td>17.318841</td>\n",
       "      <td>2072</td>\n",
       "    </tr>\n",
       "    <tr>\n",
       "      <th>1437</th>\n",
       "      <td>2358.0</td>\n",
       "      <td>17.049240</td>\n",
       "      <td>1911</td>\n",
       "    </tr>\n",
       "    <tr>\n",
       "      <th>1438</th>\n",
       "      <td>2359.0</td>\n",
       "      <td>16.935756</td>\n",
       "      <td>1900</td>\n",
       "    </tr>\n",
       "    <tr>\n",
       "      <th>1439</th>\n",
       "      <td>2400.0</td>\n",
       "      <td>16.723715</td>\n",
       "      <td>1306</td>\n",
       "    </tr>\n",
       "    <tr>\n",
       "      <th>1440</th>\n",
       "      <td>NaN</td>\n",
       "      <td>NaN</td>\n",
       "      <td>258814</td>\n",
       "    </tr>\n",
       "  </tbody>\n",
       "</table>\n",
       "<p>1441 rows × 3 columns</p>\n",
       "</div>"
      ],
      "text/plain": [
       "      dep_time   taxi_out  flight_count\n",
       "0          1.0  16.853507          1769\n",
       "1          2.0  16.665059          1453\n",
       "2          3.0  16.648173          1478\n",
       "3          4.0  16.368727          1380\n",
       "4          5.0  16.679969          1279\n",
       "...        ...        ...           ...\n",
       "1436    2357.0  17.318841          2072\n",
       "1437    2358.0  17.049240          1911\n",
       "1438    2359.0  16.935756          1900\n",
       "1439    2400.0  16.723715          1306\n",
       "1440       NaN        NaN        258814\n",
       "\n",
       "[1441 rows x 3 columns]"
      ]
     },
     "execution_count": 93,
     "metadata": {},
     "output_type": "execute_result"
    }
   ],
   "source": [
    "# Columns can be grouped by minute, that will give quite a bit of specificity\n",
    "# I imagine there are enough rows to support that small of a bucket\n",
    "# Start with just departures, that keeps the query simple\n",
    "taxi_times = execute_query(\"\"\"\n",
    "SELECT\n",
    "    dep_time,\n",
    "    AVG(taxi_out) AS taxi_out,\n",
    "    COUNT(*) AS flight_count\n",
    "FROM flights\n",
    "GROUP BY dep_time\n",
    "\"\"\")\n",
    "taxi_times"
   ]
  },
  {
   "cell_type": "code",
   "execution_count": 113,
   "id": "9443fada",
   "metadata": {},
   "outputs": [
    {
     "data": {
      "image/png": "[encoded data removed]",
      "text/plain": [
       "<Figure size 432x288 with 2 Axes>"
      ]
     },
     "metadata": {
      "needs_background": "light"
     },
     "output_type": "display_data"
    }
   ],
   "source": [
    "# It appears there are some rows where the time info is null\n",
    "# Get those outta here\n",
    "taxi_times = taxi_times.drop(index=[1440])\n",
    "\n",
    "# Plot taxi time over time\n",
    "fig, ax = plt.subplots()\n",
    "# Convert departure time into decimal hours\n",
    "two_axes_plot(\n",
    "    ax,\n",
    "    taxi_times['dep_time'].apply(lambda t: t // 100 + ((t % 100) / 60)),\n",
    "    taxi_times['taxi_out'],\n",
    "    taxi_times['flight_count'],\n",
    "    xlabel = 'Departure Time',\n",
    "    ylabel1 = 'Time',\n",
    "    ylabel2 = 'Flight Count',\n",
    "    colors = [None, 'lightblue'],\n",
    "    legend = ['taxi out', 'flight count']\n",
    ")\n",
    "plt.show()"
   ]
  },
  {
   "cell_type": "markdown",
   "id": "6fc2f74d",
   "metadata": {},
   "source": [
    "Taxi times do drop off into the night after flights have basically stopped. But both flights and taxi times remain mostly consistent throughtout the day.  \n",
    "There's a small bump in taxi times around 9-10:00, but it doesn't appear to correspond to any increase in number of flights.\n",
    "\n",
    "I do notice that there's a huge amount of flights leaving at 6am, then another spike at 7 or 7:30"
   ]
  },
  {
   "cell_type": "code",
   "execution_count": null,
   "id": "89658e45",
   "metadata": {},
   "outputs": [],
   "source": []
  }
 ],
 "metadata": {
  "kernelspec": {
   "display_name": "bootcamp",
   "language": "python",
   "name": "bootcamp"
  },
  "language_info": {
   "codemirror_mode": {
    "name": "ipython",
    "version": 3
   },
   "file_extension": ".py",
   "mimetype": "text/x-python",
   "name": "python",
   "nbconvert_exporter": "python",
   "pygments_lexer": "ipython3",
   "version": "3.8.5"
  }
 },
 "nbformat": 4,
 "nbformat_minor": 5
}
