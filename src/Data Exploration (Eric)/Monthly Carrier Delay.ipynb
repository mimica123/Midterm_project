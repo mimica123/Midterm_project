{
 "cells": [
  {
   "cell_type": "code",
   "execution_count": 1,
   "id": "b5f4984c",
   "metadata": {},
   "outputs": [],
   "source": [
    "import pandas as pd\n",
    "import pgaccess as pg"
   ]
  },
  {
   "cell_type": "markdown",
   "id": "3abcf3ae",
   "metadata": {},
   "source": [
    "I don't really have something interesting I'd like to look at here. I know I want these numbers for the prediction model, but as for plotting them etc I don't have many ideas"
   ]
  },
  {
   "cell_type": "code",
   "execution_count": 3,
   "id": "bfd07b1a",
   "metadata": {},
   "outputs": [
    {
     "data": {
      "text/html": [
       "<div>\n",
       "<style scoped>\n",
       "    .dataframe tbody tr th:only-of-type {\n",
       "        vertical-align: middle;\n",
       "    }\n",
       "\n",
       "    .dataframe tbody tr th {\n",
       "        vertical-align: top;\n",
       "    }\n",
       "\n",
       "    .dataframe thead th {\n",
       "        text-align: right;\n",
       "    }\n",
       "</style>\n",
       "<table border=\"1\" class=\"dataframe\">\n",
       "  <thead>\n",
       "    <tr style=\"text-align: right;\">\n",
       "      <th></th>\n",
       "      <th>op_unique_carrier</th>\n",
       "      <th>month</th>\n",
       "      <th>mean_delay</th>\n",
       "      <th>flight_count</th>\n",
       "    </tr>\n",
       "  </thead>\n",
       "  <tbody>\n",
       "    <tr>\n",
       "      <th>0</th>\n",
       "      <td>9E</td>\n",
       "      <td>1.0</td>\n",
       "      <td>3.846229</td>\n",
       "      <td>37344</td>\n",
       "    </tr>\n",
       "    <tr>\n",
       "      <th>1</th>\n",
       "      <td>9E</td>\n",
       "      <td>2.0</td>\n",
       "      <td>4.716917</td>\n",
       "      <td>35695</td>\n",
       "    </tr>\n",
       "    <tr>\n",
       "      <th>2</th>\n",
       "      <td>9E</td>\n",
       "      <td>3.0</td>\n",
       "      <td>2.283191</td>\n",
       "      <td>43656</td>\n",
       "    </tr>\n",
       "    <tr>\n",
       "      <th>3</th>\n",
       "      <td>9E</td>\n",
       "      <td>4.0</td>\n",
       "      <td>6.712606</td>\n",
       "      <td>41954</td>\n",
       "    </tr>\n",
       "    <tr>\n",
       "      <th>4</th>\n",
       "      <td>9E</td>\n",
       "      <td>5.0</td>\n",
       "      <td>1.303258</td>\n",
       "      <td>42195</td>\n",
       "    </tr>\n",
       "    <tr>\n",
       "      <th>...</th>\n",
       "      <td>...</td>\n",
       "      <td>...</td>\n",
       "      <td>...</td>\n",
       "      <td>...</td>\n",
       "    </tr>\n",
       "    <tr>\n",
       "      <th>315</th>\n",
       "      <td>ZW</td>\n",
       "      <td>8.0</td>\n",
       "      <td>9.679506</td>\n",
       "      <td>17354</td>\n",
       "    </tr>\n",
       "    <tr>\n",
       "      <th>316</th>\n",
       "      <td>ZW</td>\n",
       "      <td>9.0</td>\n",
       "      <td>4.777711</td>\n",
       "      <td>17117</td>\n",
       "    </tr>\n",
       "    <tr>\n",
       "      <th>317</th>\n",
       "      <td>ZW</td>\n",
       "      <td>10.0</td>\n",
       "      <td>-3.330630</td>\n",
       "      <td>17883</td>\n",
       "    </tr>\n",
       "    <tr>\n",
       "      <th>318</th>\n",
       "      <td>ZW</td>\n",
       "      <td>11.0</td>\n",
       "      <td>4.054967</td>\n",
       "      <td>17166</td>\n",
       "    </tr>\n",
       "    <tr>\n",
       "      <th>319</th>\n",
       "      <td>ZW</td>\n",
       "      <td>12.0</td>\n",
       "      <td>2.088399</td>\n",
       "      <td>17059</td>\n",
       "    </tr>\n",
       "  </tbody>\n",
       "</table>\n",
       "<p>320 rows × 4 columns</p>\n",
       "</div>"
      ],
      "text/plain": [
       "    op_unique_carrier  month  mean_delay  flight_count\n",
       "0                  9E    1.0    3.846229         37344\n",
       "1                  9E    2.0    4.716917         35695\n",
       "2                  9E    3.0    2.283191         43656\n",
       "3                  9E    4.0    6.712606         41954\n",
       "4                  9E    5.0    1.303258         42195\n",
       "..                ...    ...         ...           ...\n",
       "315                ZW    8.0    9.679506         17354\n",
       "316                ZW    9.0    4.777711         17117\n",
       "317                ZW   10.0   -3.330630         17883\n",
       "318                ZW   11.0    4.054967         17166\n",
       "319                ZW   12.0    2.088399         17059\n",
       "\n",
       "[320 rows x 4 columns]"
      ]
     },
     "execution_count": 3,
     "metadata": {},
     "output_type": "execute_result"
    }
   ],
   "source": [
    "carrierDelay = pg.execute_query('''\n",
    "SELECT\n",
    "    op_unique_carrier,\n",
    "    EXTRACT(MONTH FROM TO_DATE(fl_date, 'YYYY-MM-DD')) AS \"month\",\n",
    "    AVG(arr_delay) AS mean_delay,\n",
    "    COUNT(*) AS flight_count\n",
    "FROM flights\n",
    "GROUP BY op_unique_carrier, \"month\"\n",
    "''')\n",
    "carrierDelay"
   ]
  },
  {
   "cell_type": "code",
   "execution_count": 6,
   "id": "ca093795",
   "metadata": {},
   "outputs": [],
   "source": [
    "carrierDelay['month'] = carrierDelay.month.astype(int)"
   ]
  },
  {
   "cell_type": "code",
   "execution_count": 7,
   "id": "eb4d3e3e",
   "metadata": {},
   "outputs": [],
   "source": [
    "# Write to file\n",
    "carrierDelay.to_csv('../data/monthly_carrier_delay.csv', index=False)"
   ]
  },
  {
   "cell_type": "code",
   "execution_count": null,
   "id": "1ada935e",
   "metadata": {},
   "outputs": [],
   "source": []
  }
 ],
 "metadata": {
  "kernelspec": {
   "display_name": "bootcamp",
   "language": "python",
   "name": "bootcamp"
  },
  "language_info": {
   "codemirror_mode": {
    "name": "ipython",
    "version": 3
   },
   "file_extension": ".py",
   "mimetype": "text/x-python",
   "name": "python",
   "nbconvert_exporter": "python",
   "pygments_lexer": "ipython3",
   "version": "3.8.5"
  }
 },
 "nbformat": 4,
 "nbformat_minor": 5
}
